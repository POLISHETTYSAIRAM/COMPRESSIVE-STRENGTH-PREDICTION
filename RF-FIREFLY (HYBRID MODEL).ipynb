{
 "cells": [
  {
   "cell_type": "markdown",
   "id": "b391c2eb",
   "metadata": {},
   "source": [
    "## hybrid"
   ]
  },
  {
   "cell_type": "code",
   "execution_count": 2,
   "id": "0286a669",
   "metadata": {},
   "outputs": [],
   "source": [
    "import pandas as pd # a library for data manipuation\n",
    "import numpy as np\n",
    "import matplotlib.pyplot as plt\n",
    "import seaborn as sns"
   ]
  },
  {
   "cell_type": "code",
   "execution_count": 3,
   "id": "80669a6b",
   "metadata": {},
   "outputs": [],
   "source": [
    "df=pd.read_csv(\"Desktop/concrete_Data.csv\")"
   ]
  },
  {
   "cell_type": "code",
   "execution_count": 4,
   "id": "04a87ca3",
   "metadata": {},
   "outputs": [
    {
     "data": {
      "text/html": [
       "<div>\n",
       "<style scoped>\n",
       "    .dataframe tbody tr th:only-of-type {\n",
       "        vertical-align: middle;\n",
       "    }\n",
       "\n",
       "    .dataframe tbody tr th {\n",
       "        vertical-align: top;\n",
       "    }\n",
       "\n",
       "    .dataframe thead th {\n",
       "        text-align: right;\n",
       "    }\n",
       "</style>\n",
       "<table border=\"1\" class=\"dataframe\">\n",
       "  <thead>\n",
       "    <tr style=\"text-align: right;\">\n",
       "      <th></th>\n",
       "      <th>Cement (component 1)(kg in a m^3 mixture)</th>\n",
       "      <th>Blast Furnace Slag (component 2)(kg in a m^3 mixture)</th>\n",
       "      <th>Fly Ash (component 3)(kg in a m^3 mixture)</th>\n",
       "      <th>Water  (component 4)(kg in a m^3 mixture)</th>\n",
       "      <th>Superplasticizer (component 5)(kg in a m^3 mixture)</th>\n",
       "      <th>Coarse Aggregate  (component 6)(kg in a m^3 mixture)</th>\n",
       "      <th>Fine Aggregate (component 7)(kg in a m^3 mixture)</th>\n",
       "      <th>Age (day)</th>\n",
       "      <th>Concrete compressive strength(MPa, megapascals)</th>\n",
       "    </tr>\n",
       "  </thead>\n",
       "  <tbody>\n",
       "    <tr>\n",
       "      <th>0</th>\n",
       "      <td>540.0</td>\n",
       "      <td>0.0</td>\n",
       "      <td>0.0</td>\n",
       "      <td>162.0</td>\n",
       "      <td>2.5</td>\n",
       "      <td>1040.0</td>\n",
       "      <td>676.0</td>\n",
       "      <td>28</td>\n",
       "      <td>79.99</td>\n",
       "    </tr>\n",
       "    <tr>\n",
       "      <th>1</th>\n",
       "      <td>540.0</td>\n",
       "      <td>0.0</td>\n",
       "      <td>0.0</td>\n",
       "      <td>162.0</td>\n",
       "      <td>2.5</td>\n",
       "      <td>1055.0</td>\n",
       "      <td>676.0</td>\n",
       "      <td>28</td>\n",
       "      <td>61.89</td>\n",
       "    </tr>\n",
       "    <tr>\n",
       "      <th>2</th>\n",
       "      <td>332.5</td>\n",
       "      <td>142.5</td>\n",
       "      <td>0.0</td>\n",
       "      <td>228.0</td>\n",
       "      <td>0.0</td>\n",
       "      <td>932.0</td>\n",
       "      <td>594.0</td>\n",
       "      <td>270</td>\n",
       "      <td>40.27</td>\n",
       "    </tr>\n",
       "    <tr>\n",
       "      <th>3</th>\n",
       "      <td>332.5</td>\n",
       "      <td>142.5</td>\n",
       "      <td>0.0</td>\n",
       "      <td>228.0</td>\n",
       "      <td>0.0</td>\n",
       "      <td>932.0</td>\n",
       "      <td>594.0</td>\n",
       "      <td>365</td>\n",
       "      <td>41.05</td>\n",
       "    </tr>\n",
       "    <tr>\n",
       "      <th>4</th>\n",
       "      <td>198.6</td>\n",
       "      <td>132.4</td>\n",
       "      <td>0.0</td>\n",
       "      <td>192.0</td>\n",
       "      <td>0.0</td>\n",
       "      <td>978.4</td>\n",
       "      <td>825.5</td>\n",
       "      <td>360</td>\n",
       "      <td>44.30</td>\n",
       "    </tr>\n",
       "    <tr>\n",
       "      <th>...</th>\n",
       "      <td>...</td>\n",
       "      <td>...</td>\n",
       "      <td>...</td>\n",
       "      <td>...</td>\n",
       "      <td>...</td>\n",
       "      <td>...</td>\n",
       "      <td>...</td>\n",
       "      <td>...</td>\n",
       "      <td>...</td>\n",
       "    </tr>\n",
       "    <tr>\n",
       "      <th>1025</th>\n",
       "      <td>276.4</td>\n",
       "      <td>116.0</td>\n",
       "      <td>90.3</td>\n",
       "      <td>179.6</td>\n",
       "      <td>8.9</td>\n",
       "      <td>870.1</td>\n",
       "      <td>768.3</td>\n",
       "      <td>28</td>\n",
       "      <td>44.28</td>\n",
       "    </tr>\n",
       "    <tr>\n",
       "      <th>1026</th>\n",
       "      <td>322.2</td>\n",
       "      <td>0.0</td>\n",
       "      <td>115.6</td>\n",
       "      <td>196.0</td>\n",
       "      <td>10.4</td>\n",
       "      <td>817.9</td>\n",
       "      <td>813.4</td>\n",
       "      <td>28</td>\n",
       "      <td>31.18</td>\n",
       "    </tr>\n",
       "    <tr>\n",
       "      <th>1027</th>\n",
       "      <td>148.5</td>\n",
       "      <td>139.4</td>\n",
       "      <td>108.6</td>\n",
       "      <td>192.7</td>\n",
       "      <td>6.1</td>\n",
       "      <td>892.4</td>\n",
       "      <td>780.0</td>\n",
       "      <td>28</td>\n",
       "      <td>23.70</td>\n",
       "    </tr>\n",
       "    <tr>\n",
       "      <th>1028</th>\n",
       "      <td>159.1</td>\n",
       "      <td>186.7</td>\n",
       "      <td>0.0</td>\n",
       "      <td>175.6</td>\n",
       "      <td>11.3</td>\n",
       "      <td>989.6</td>\n",
       "      <td>788.9</td>\n",
       "      <td>28</td>\n",
       "      <td>32.77</td>\n",
       "    </tr>\n",
       "    <tr>\n",
       "      <th>1029</th>\n",
       "      <td>260.9</td>\n",
       "      <td>100.5</td>\n",
       "      <td>78.3</td>\n",
       "      <td>200.6</td>\n",
       "      <td>8.6</td>\n",
       "      <td>864.5</td>\n",
       "      <td>761.5</td>\n",
       "      <td>28</td>\n",
       "      <td>32.40</td>\n",
       "    </tr>\n",
       "  </tbody>\n",
       "</table>\n",
       "<p>1030 rows × 9 columns</p>\n",
       "</div>"
      ],
      "text/plain": [
       "      Cement (component 1)(kg in a m^3 mixture)  \\\n",
       "0                                         540.0   \n",
       "1                                         540.0   \n",
       "2                                         332.5   \n",
       "3                                         332.5   \n",
       "4                                         198.6   \n",
       "...                                         ...   \n",
       "1025                                      276.4   \n",
       "1026                                      322.2   \n",
       "1027                                      148.5   \n",
       "1028                                      159.1   \n",
       "1029                                      260.9   \n",
       "\n",
       "      Blast Furnace Slag (component 2)(kg in a m^3 mixture)  \\\n",
       "0                                                   0.0       \n",
       "1                                                   0.0       \n",
       "2                                                 142.5       \n",
       "3                                                 142.5       \n",
       "4                                                 132.4       \n",
       "...                                                 ...       \n",
       "1025                                              116.0       \n",
       "1026                                                0.0       \n",
       "1027                                              139.4       \n",
       "1028                                              186.7       \n",
       "1029                                              100.5       \n",
       "\n",
       "      Fly Ash (component 3)(kg in a m^3 mixture)  \\\n",
       "0                                            0.0   \n",
       "1                                            0.0   \n",
       "2                                            0.0   \n",
       "3                                            0.0   \n",
       "4                                            0.0   \n",
       "...                                          ...   \n",
       "1025                                        90.3   \n",
       "1026                                       115.6   \n",
       "1027                                       108.6   \n",
       "1028                                         0.0   \n",
       "1029                                        78.3   \n",
       "\n",
       "      Water  (component 4)(kg in a m^3 mixture)  \\\n",
       "0                                         162.0   \n",
       "1                                         162.0   \n",
       "2                                         228.0   \n",
       "3                                         228.0   \n",
       "4                                         192.0   \n",
       "...                                         ...   \n",
       "1025                                      179.6   \n",
       "1026                                      196.0   \n",
       "1027                                      192.7   \n",
       "1028                                      175.6   \n",
       "1029                                      200.6   \n",
       "\n",
       "      Superplasticizer (component 5)(kg in a m^3 mixture)  \\\n",
       "0                                                   2.5     \n",
       "1                                                   2.5     \n",
       "2                                                   0.0     \n",
       "3                                                   0.0     \n",
       "4                                                   0.0     \n",
       "...                                                 ...     \n",
       "1025                                                8.9     \n",
       "1026                                               10.4     \n",
       "1027                                                6.1     \n",
       "1028                                               11.3     \n",
       "1029                                                8.6     \n",
       "\n",
       "      Coarse Aggregate  (component 6)(kg in a m^3 mixture)  \\\n",
       "0                                                1040.0      \n",
       "1                                                1055.0      \n",
       "2                                                 932.0      \n",
       "3                                                 932.0      \n",
       "4                                                 978.4      \n",
       "...                                                 ...      \n",
       "1025                                              870.1      \n",
       "1026                                              817.9      \n",
       "1027                                              892.4      \n",
       "1028                                              989.6      \n",
       "1029                                              864.5      \n",
       "\n",
       "      Fine Aggregate (component 7)(kg in a m^3 mixture)  Age (day)  \\\n",
       "0                                                 676.0         28   \n",
       "1                                                 676.0         28   \n",
       "2                                                 594.0        270   \n",
       "3                                                 594.0        365   \n",
       "4                                                 825.5        360   \n",
       "...                                                 ...        ...   \n",
       "1025                                              768.3         28   \n",
       "1026                                              813.4         28   \n",
       "1027                                              780.0         28   \n",
       "1028                                              788.9         28   \n",
       "1029                                              761.5         28   \n",
       "\n",
       "      Concrete compressive strength(MPa, megapascals)   \n",
       "0                                                79.99  \n",
       "1                                                61.89  \n",
       "2                                                40.27  \n",
       "3                                                41.05  \n",
       "4                                                44.30  \n",
       "...                                                ...  \n",
       "1025                                             44.28  \n",
       "1026                                             31.18  \n",
       "1027                                             23.70  \n",
       "1028                                             32.77  \n",
       "1029                                             32.40  \n",
       "\n",
       "[1030 rows x 9 columns]"
      ]
     },
     "execution_count": 4,
     "metadata": {},
     "output_type": "execute_result"
    }
   ],
   "source": [
    "df"
   ]
  },
  {
   "cell_type": "code",
   "execution_count": 5,
   "id": "42344bcd",
   "metadata": {},
   "outputs": [],
   "source": [
    "# first we need to separate dataset as input(X) and output(y)\n",
    "X=df.iloc[:,:-1] #independant features\n",
    "y=df.iloc[:,-1]  #dependant features"
   ]
  },
  {
   "cell_type": "code",
   "execution_count": 6,
   "id": "70d5f7ea",
   "metadata": {},
   "outputs": [],
   "source": [
    "#importing training ang testing module\n",
    "from sklearn.model_selection import train_test_split\n",
    "# spliting the dataset for testing and training\n",
    "X_train, X_test, y_train, y_test = train_test_split(X,y,test_size=0.3,random_state=0)"
   ]
  },
  {
   "cell_type": "code",
   "execution_count": 7,
   "id": "82511e44",
   "metadata": {},
   "outputs": [],
   "source": [
    "from sklearn.ensemble import RandomForestRegressor"
   ]
  },
  {
   "cell_type": "code",
   "execution_count": 8,
   "id": "31cd3265",
   "metadata": {},
   "outputs": [
    {
     "data": {
      "text/plain": [
       "RandomForestRegressor()"
      ]
     },
     "execution_count": 8,
     "metadata": {},
     "output_type": "execute_result"
    }
   ],
   "source": [
    "regressor=RandomForestRegressor()\n",
    "regressor.fit(X_train,y_train)"
   ]
  },
  {
   "cell_type": "code",
   "execution_count": 9,
   "id": "551113c7",
   "metadata": {},
   "outputs": [
    {
     "name": "stdout",
     "output_type": "stream",
     "text": [
      "coefficient of determination for train data: 0.9837234127337238\n"
     ]
    }
   ],
   "source": [
    "print(f\"coefficient of determination for train data: {regressor.score(X_train,y_train)}\")"
   ]
  },
  {
   "cell_type": "code",
   "execution_count": 10,
   "id": "ffa30092",
   "metadata": {},
   "outputs": [
    {
     "name": "stdout",
     "output_type": "stream",
     "text": [
      "coefficient of determinatio for test data:0.8909683655178906\n"
     ]
    }
   ],
   "source": [
    "print(f\"coefficient of determinatio for test data:{regressor.score(X_test,y_test)}\")"
   ]
  },
  {
   "cell_type": "code",
   "execution_count": 11,
   "id": "c7497ec0",
   "metadata": {},
   "outputs": [
    {
     "data": {
      "text/plain": [
       "array([ 0.66760097,  0.68356339,  0.73404651,  0.8399329 , -1.29187046])"
      ]
     },
     "execution_count": 11,
     "metadata": {},
     "output_type": "execute_result"
    }
   ],
   "source": [
    "from sklearn.model_selection import cross_val_score\n",
    "score=cross_val_score(regressor,X,y,cv=5)\n",
    "score"
   ]
  },
  {
   "cell_type": "code",
   "execution_count": 12,
   "id": "3f95d036",
   "metadata": {},
   "outputs": [
    {
     "data": {
      "text/plain": [
       "0.3266546620370671"
      ]
     },
     "execution_count": 12,
     "metadata": {},
     "output_type": "execute_result"
    }
   ],
   "source": [
    "score.mean()"
   ]
  },
  {
   "cell_type": "code",
   "execution_count": 13,
   "id": "4f3f2e01",
   "metadata": {},
   "outputs": [
    {
     "data": {
      "text/plain": [
       "array([30.2411    ,  7.6008    , 79.22      , 60.3295    , 11.445     ,\n",
       "       47.67510476, 60.75746667, 24.4525    , 73.3415    , 51.449     ,\n",
       "       18.1458    , 42.6042    , 35.7032    , 15.3317    , 51.5955    ,\n",
       "       57.42614167, 37.7466    , 34.5552    , 50.85853333, 38.2643    ,\n",
       "       58.33176667, 28.0657    , 29.7037    , 39.89137667, 18.08683333,\n",
       "       28.0612    , 62.4707    , 25.3516    , 57.42614167, 63.1883    ,\n",
       "       21.2551    , 45.0002    , 25.8388    , 37.4982    , 20.429     ,\n",
       "        9.1868    , 34.29912667, 28.4607    , 35.0323    , 28.4312    ,\n",
       "       35.65343333, 35.5764    , 32.3938    , 34.6759    , 61.86111667,\n",
       "       33.8691    , 26.66376667, 37.0105    , 33.6672    , 50.7378    ,\n",
       "       43.5472    , 27.2913    , 21.8267    , 39.3912    , 52.0859    ,\n",
       "       45.6896    , 38.1885    , 55.97450833, 63.9653    , 35.7113    ,\n",
       "       36.4207    , 23.3745    , 59.9537531 , 46.40004762, 12.8327    ,\n",
       "       60.9535    , 37.7698    , 26.1305    , 14.1698    , 14.8486    ,\n",
       "       17.98405   , 26.662     , 49.0587    , 26.1618    , 36.4031    ,\n",
       "       31.14128333, 25.7626    , 12.3632    , 31.5616    , 40.0409    ,\n",
       "       20.4156    , 51.227     , 19.34335   , 33.7688    , 49.4572    ,\n",
       "       36.0863    , 39.21830333, 51.17675476, 43.1104    , 39.2417    ,\n",
       "       61.35379167, 15.8376    , 14.4189    , 39.8098    , 16.5255    ,\n",
       "       41.6116    , 18.223     , 40.814     , 48.93515   , 33.1152    ,\n",
       "       12.6875    , 20.03965   , 27.4023    , 28.2145    , 43.5539    ,\n",
       "       41.4484    , 54.5573    , 16.9365    , 32.3247    , 50.599     ,\n",
       "        7.0693    , 48.8464    , 14.8885    , 32.4443    , 45.6558    ,\n",
       "       59.4911    , 36.6569    , 36.8566    , 37.7012    , 15.0879    ,\n",
       "       47.7819    , 28.0702    , 65.9616    , 27.9191    , 12.1367    ,\n",
       "       10.8568    , 11.7306    ,  8.5662    , 48.7962    , 37.9312    ,\n",
       "       31.1872    , 51.9307    , 36.1115    , 31.6981    , 12.5807    ,\n",
       "       55.10001667, 39.364     , 39.24      ,  5.6666    ,  9.3672    ,\n",
       "       36.5134    , 50.9527    , 22.8662    , 29.9264    , 18.7519    ,\n",
       "       34.2113    , 39.1262081 , 13.0315    , 41.3288    , 17.3819    ,\n",
       "       15.153     , 16.047     , 21.1153    , 37.2613    , 36.0594    ,\n",
       "       37.718     , 47.3184    , 24.4389    , 32.6191    , 27.7817    ,\n",
       "       38.783     , 37.3244    , 15.0448    , 37.1572    , 35.2751    ,\n",
       "        8.9457    , 49.0254    , 50.27355833, 50.9674    , 10.3692    ,\n",
       "       45.404     , 37.8837    , 32.5613    , 33.4938    , 10.8868    ,\n",
       "       14.4302    , 10.2219    , 40.38624333, 31.8405    , 54.7157    ,\n",
       "       15.2746    , 28.4156    , 15.1849    , 38.0809    , 20.45275333,\n",
       "       47.1316    , 38.8743    , 43.9116    , 15.3112    , 59.9537531 ,\n",
       "       32.2147    , 67.328     , 58.6701    , 32.8438    ,  6.1395    ,\n",
       "       45.8066    , 32.7935    , 26.8424    , 35.7019    , 66.52905   ,\n",
       "       22.6367    , 28.2336    , 33.8887    , 28.9042    , 37.9254    ,\n",
       "       10.9954    , 46.031     , 34.0404    , 45.4862    , 16.2185    ,\n",
       "       52.7504    , 24.6412    , 13.2197    , 30.0862    , 47.8829    ,\n",
       "       27.3106    , 28.9665    , 29.7512    , 22.9326    , 41.5146    ,\n",
       "       64.5044    , 21.3463    , 43.1104    , 39.8252    , 33.955     ,\n",
       "       40.0845    , 24.646     , 43.765     , 20.7629    , 43.5772    ,\n",
       "       32.62056667, 38.3967    , 48.0543619 , 26.0727    , 38.9056    ,\n",
       "       13.6339    , 35.5932    , 31.6912    , 29.4992    , 68.6587    ,\n",
       "       60.24693333, 49.5917    , 38.363     , 35.3627    , 22.8238    ,\n",
       "       18.4386    , 39.21520333, 25.5866    , 45.8584    , 12.0064    ,\n",
       "       11.6553    , 47.052     , 39.6569    , 36.6056    , 41.0664    ,\n",
       "       19.9375    , 22.0298    , 12.9054    , 30.6253    , 28.8698    ,\n",
       "       52.7946    , 77.6885    , 39.9365    , 39.3403    , 40.264     ,\n",
       "       61.6409    , 32.9219    , 34.1924    , 15.5301    , 44.5969    ,\n",
       "       55.10201667, 30.7488    , 32.0946    , 41.4694    , 44.6812    ,\n",
       "       43.6682    , 41.7942    , 30.4067    , 61.3147    , 33.1427    ,\n",
       "       13.3912    , 49.0735    , 54.3166    , 37.834     , 28.1576    ,\n",
       "       33.3773    , 38.0975    , 40.6712    , 67.963725  , 42.9546    ,\n",
       "       27.4158    , 61.85300833, 30.935     , 46.0253    , 65.0849    ,\n",
       "       34.7903    , 39.02139333, 46.4563    , 42.2957    , 37.4472    ,\n",
       "       30.346     , 35.8853    , 27.0408    , 13.7903    , 72.4892    ,\n",
       "       32.7767    , 11.9408    , 24.1248    , 42.9839    ])"
      ]
     },
     "execution_count": 13,
     "metadata": {},
     "output_type": "execute_result"
    }
   ],
   "source": [
    "prediction=regressor.predict(X_test)\n",
    "prediction"
   ]
  },
  {
   "cell_type": "code",
   "execution_count": 14,
   "id": "86f1630c",
   "metadata": {},
   "outputs": [
    {
     "data": {
      "text/plain": [
       "array([43.3296])"
      ]
     },
     "execution_count": 14,
     "metadata": {},
     "output_type": "execute_result"
    }
   ],
   "source": [
    "new_input=[[198.6,132.4,0.0,192.0,0.0,978.4,825.5,360]]\n",
    "new_output=regressor.predict(new_input)\n",
    "new_output"
   ]
  },
  {
   "cell_type": "code",
   "execution_count": 15,
   "id": "2f2fae3d",
   "metadata": {},
   "outputs": [
    {
     "data": {
      "text/plain": [
       "<seaborn.axisgrid.FacetGrid at 0x1847de69d60>"
      ]
     },
     "execution_count": 15,
     "metadata": {},
     "output_type": "execute_result"
    },
    {
     "data": {
      "image/png": "[encoded data removed]",
      "text/plain": [
       "<Figure size 360x360 with 1 Axes>"
      ]
     },
     "metadata": {
      "needs_background": "light"
     },
     "output_type": "display_data"
    }
   ],
   "source": [
    "sns.displot(y_test-prediction)"
   ]
  },
  {
   "cell_type": "code",
   "execution_count": 16,
   "id": "c6856cdd",
   "metadata": {},
   "outputs": [
    {
     "data": {
      "text/plain": [
       "<matplotlib.collections.PathCollection at 0x18400081bb0>"
      ]
     },
     "execution_count": 16,
     "metadata": {},
     "output_type": "execute_result"
    },
    {
     "data": {
      "image/png": "[encoded data removed]",
      "text/plain": [
       "<Figure size 432x288 with 1 Axes>"
      ]
     },
     "metadata": {
      "needs_background": "light"
     },
     "output_type": "display_data"
    }
   ],
   "source": [
    "plt.scatter(y_test,prediction)"
   ]
  },
  {
   "cell_type": "code",
   "execution_count": 17,
   "id": "b1fc84b4",
   "metadata": {},
   "outputs": [],
   "source": [
    "from sklearn import metrics"
   ]
  },
  {
   "cell_type": "code",
   "execution_count": 18,
   "id": "a2ca14eb",
   "metadata": {},
   "outputs": [
    {
     "name": "stdout",
     "output_type": "stream",
     "text": [
      "MAE: 3.6664737609801206\n",
      "MSE: 27.988396533234344\n",
      "RMSE: 5.290406083963153\n"
     ]
    }
   ],
   "source": [
    "print('MAE:' ,metrics.mean_absolute_error(y_test,prediction))\n",
    "print(\"MSE:\" ,metrics.mean_squared_error(y_test,prediction))\n",
    "print('RMSE:',np.sqrt(metrics.mean_squared_error(y_test,prediction)))"
   ]
  },
  {
   "cell_type": "markdown",
   "id": "34fab452",
   "metadata": {},
   "source": [
    "## firefly algorithm"
   ]
  },
  {
   "cell_type": "code",
   "execution_count": 19,
   "id": "14521bd8",
   "metadata": {},
   "outputs": [],
   "source": [
    "from FireflyAlgorithm import FireflyAlgorithm\n"
   ]
  },
  {
   "cell_type": "code",
   "execution_count": 25,
   "id": "b1a24d8e",
   "metadata": {},
   "outputs": [
    {
     "name": "stdout",
     "output_type": "stream",
     "text": [
      "62 43 8 3\n",
      "5\n",
      "18 34 18 8\n",
      "6\n",
      "20 20 3 2\n",
      "8\n",
      "35 48 19 7\n",
      "5\n",
      "42 29 12 2\n",
      "6\n",
      "55 37 15 8\n",
      "6\n",
      "77 2 18 6\n",
      "12\n",
      "19 16 16 6\n",
      "6\n",
      "73 17 14 5\n",
      "6\n",
      "26 39 8 4\n",
      "6\n",
      "61 29 11 5\n",
      "6\n",
      "49 45 15 7\n",
      "5\n",
      "71 4 9 6\n",
      "10\n",
      "84 19 8 2\n",
      "6\n",
      "87 10 11 2\n",
      "8\n",
      "61 25 12 3\n",
      "6\n",
      "58 47 12 7\n",
      "5\n",
      "29 13 16 9\n",
      "7\n",
      "39 41 11 3\n",
      "6\n",
      "36 30 14 7\n",
      "6\n",
      "21 23 7 4\n",
      "6\n",
      "17 15 19 4\n",
      "7\n",
      "57 40 5 8\n",
      "6\n",
      "74 39 4 2\n",
      "7\n",
      "12 36 17 9\n",
      "6\n",
      "34 12 15 4\n",
      "7\n",
      "13 33 11 9\n",
      "6\n",
      "74 36 6 7\n",
      "5\n",
      "40 29 11 4\n",
      "6\n",
      "74 43 11 8\n",
      "6\n",
      "74 20 6 3\n",
      "6\n",
      "61 18 17 7\n",
      "6\n",
      "10 3 8 8\n",
      "11\n",
      "82 15 17 8\n",
      "7\n",
      "51 39 16 8\n",
      "5\n",
      "65 15 18 4\n",
      "7\n",
      "82 22 2 2\n",
      "10\n",
      "84 35 6 7\n",
      "6\n",
      "55 17 5 9\n",
      "7\n",
      "15 22 4 5\n",
      "7\n",
      "60 16 10 8\n",
      "7\n",
      "24 46 17 7\n",
      "5\n",
      "54 5 4 9\n",
      "9\n",
      "98 46 14 3\n",
      "5\n",
      "21 21 12 6\n",
      "6\n",
      "87 15 14 3\n",
      "7\n",
      "90 8 16 6\n",
      "8\n",
      "40 33 9 5\n",
      "6\n",
      "15 42 7 7\n",
      "5\n",
      "16 25 6 8\n",
      "6\n",
      "best  =  5\n",
      "Wall time: 17.2 s\n"
     ]
    }
   ],
   "source": [
    "%%time\n",
    "def firefly(x):\n",
    "    xx = 0\n",
    "    print(int(x[0]),int(x[1]),int(x[2]),int(x[3]))\n",
    "    model=RandomForestRegressor(n_estimators=int(x[0]),max_leaf_nodes=int(x[1]),max_depth=int(x[2]),min_samples_split=int(x[3]),verbose=False)\n",
    "    model.fit(X_train,y_train)\n",
    "    prediction=model.predict(X_test)\n",
    "    xx = (int(np.sqrt(metrics.mean_squared_error(y_test,prediction))))\n",
    "    print(xx)\n",
    "    #print(model.best_params_)\n",
    "    return xx\n",
    "best = FireflyAlgorithm(function=firefly, dim=4,lb=np.array([10,2,2,2]),ub=np.array([100,50,20,10]), max_evals=5, pop_size=50,alpha=1.0,betamin=1.0,gamma=0.01)\n",
    "print(\"best  = \",best)\n",
    "    \n",
    "\n",
    "    "
   ]
  },
  {
   "cell_type": "code",
   "execution_count": null,
   "id": "326ebded",
   "metadata": {},
   "outputs": [],
   "source": []
  }
 ],
 "metadata": {
  "kernelspec": {
   "display_name": "Python 3",
   "language": "python",
   "name": "python3"
  },
  "language_info": {
   "codemirror_mode": {
    "name": "ipython",
    "version": 3
   },
   "file_extension": ".py",
   "mimetype": "text/x-python",
   "name": "python",
   "nbconvert_exporter": "python",
   "pygments_lexer": "ipython3",
   "version": "3.8.8"
  }
 },
 "nbformat": 4,
 "nbformat_minor": 5
}
